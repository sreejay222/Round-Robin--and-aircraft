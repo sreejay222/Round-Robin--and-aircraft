{
 "cells": [
  {
   "cell_type": "code",
   "execution_count": null,
   "metadata": {
    "collapsed": true
   },
   "outputs": [],
   "source": [
    "div1 = [\"Lions\", \"Tigers\", \"Jaguars\", \"Cougars\"]\n",
    "div2 = [\"Whales\", \"Sharks\", \"Piranhas\", \"Alligators\"]\n",
    "div3 = [\"Cubs\", \"Kittens\", \"Puppies\", \"Calfs\"]\n",
    "\n",
    "def create_schedule(list):\n",
    "    \"\"\" Create a schedule for the teams in the list and return it\"\"\"\n",
    "    s = []\n",
    "\n",
    "    if len(list) % 2 == 1: list = list + [\"BYE\"]\n",
    "\n",
    "    for i in range(len(list)-1):\n",
    "\n",
    "        mid = len(list)/2\n",
    "        l1 = list[:int(mid)]\n",
    "        l2 = list[int(mid):]\n",
    "        l2.reverse()\t\n",
    "        print(l1)\n",
    "        print(l2)\n",
    "        print(i)\n",
    "        # Switch sides after each round\n",
    "        if(i % 2 == 1):\n",
    "            s = s + [ zip(l1, l2) ]\n",
    "        else:\n",
    "            s = s + [ zip(l2, l1) ]\n",
    "\n",
    "        list.insert(1, list.pop())\n",
    "\n",
    "    return s\n",
    "\n",
    "\n",
    "def main():\n",
    "    for round in create_schedule(div1):\n",
    "        for match in round:\n",
    "            print(match[0] + \" - \" + match[1])\n",
    "    print\n",
    "    for round in create_schedule(div2):\n",
    "        for match in round:\n",
    "            print(match[0] + \" - \" + match[1])\n",
    "    print\n",
    "    for round in create_schedule(div3): \n",
    "        for match in round:\n",
    "            print(match[0] + \" - \" + match[1])\n",
    "    print\n",
    "    for round in create_schedule(div1+div2+div3): \n",
    "        for match in round:\n",
    "            print(match[0] + \" - \" + match[1])\n",
    "        print\n",
    "\n",
    "\n",
    "if __name__ == \"__main__\":\n",
    "    main()"
   ]
  }
 ],
 "metadata": {
  "kernelspec": {
   "display_name": "Python 3",
   "language": "python",
   "name": "python3"
  },
  "language_info": {
   "codemirror_mode": {
    "name": "ipython",
    "version": 3
   },
   "file_extension": ".py",
   "mimetype": "text/x-python",
   "name": "python",
   "nbconvert_exporter": "python",
   "pygments_lexer": "ipython3",
   "version": "3.6.1"
  }
 },
 "nbformat": 4,
 "nbformat_minor": 2
}
